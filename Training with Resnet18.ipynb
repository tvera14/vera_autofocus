{
 "cells": [
  {
   "cell_type": "markdown",
   "metadata": {},
   "source": [
    "Tried training a model with resnet18"
   ]
  },
  {
   "cell_type": "code",
   "execution_count": 1,
   "metadata": {},
   "outputs": [],
   "source": [
    "# Import all needed libraries\n",
    "import matplotlib.pyplot as plt\n",
    "import numpy as np\n",
    "import torch\n",
    "from torch import nn\n",
    "from torch import optim\n",
    "from torch.optim import lr_scheduler\n",
    "import torch.nn.functional as F\n",
    "from torchvision import datasets, transforms, models\n",
    "# These last two are used to save info about how the training progressed\n",
    "import pickle\n",
    "import datetime"
   ]
  },
  {
   "cell_type": "code",
   "execution_count": 2,
   "metadata": {},
   "outputs": [
    {
     "name": "stdout",
     "output_type": "stream",
     "text": [
      "Cuda is not available, running on CPU\n",
      "Epoch 1/2.. Train loss: 2.068.. Test loss: 1.650.. Test accuracy: 0.326\n",
      "Epoch 1/2.. Train loss: 1.714.. Test loss: 1.720.. Test accuracy: 0.324\n",
      "Epoch 1/2.. Train loss: 1.664.. Test loss: 1.442.. Test accuracy: 0.387\n",
      "Epoch 1/2.. Train loss: 1.429.. Test loss: 1.436.. Test accuracy: 0.370\n",
      "Epoch 1/2.. Train loss: 1.627.. Test loss: 1.475.. Test accuracy: 0.326\n",
      "Epoch 1/2.. Train loss: 1.487.. Test loss: 1.435.. Test accuracy: 0.377\n",
      "Epoch 1/2.. Train loss: 1.484.. Test loss: 1.442.. Test accuracy: 0.382\n",
      "Epoch 1/2.. Train loss: 1.362.. Test loss: 1.432.. Test accuracy: 0.387\n",
      "Epoch 2/2.. Train loss: 1.411.. Test loss: 1.425.. Test accuracy: 0.387\n",
      "Epoch 2/2.. Train loss: 1.376.. Test loss: 1.478.. Test accuracy: 0.324\n",
      "Epoch 2/2.. Train loss: 1.439.. Test loss: 1.414.. Test accuracy: 0.386\n",
      "Epoch 2/2.. Train loss: 1.503.. Test loss: 1.427.. Test accuracy: 0.392\n",
      "Epoch 2/2.. Train loss: 1.435.. Test loss: 1.416.. Test accuracy: 0.366\n",
      "Epoch 2/2.. Train loss: 1.478.. Test loss: 1.412.. Test accuracy: 0.397\n",
      "Epoch 2/2.. Train loss: 1.457.. Test loss: 1.433.. Test accuracy: 0.354\n",
      "Epoch 2/2.. Train loss: 1.442.. Test loss: 1.417.. Test accuracy: 0.387\n",
      "Epoch 2/2.. Train loss: 1.433.. Test loss: 1.430.. Test accuracy: 0.334\n"
     ]
    }
   ],
   "source": [
    "data_dir = 'microscope_images'\n",
    "# Make sure you are running the code from the folder that contains data_dir, or it won't work\n",
    "num_train = 10\n",
    "num_test = 10\n",
    "\n",
    "# Define transforms for the training data and testing data\n",
    "resnet_transforms = transforms.Compose([transforms.RandomRotation(30),\n",
    "                                       transforms.RandomResizedCrop(224),\n",
    "                                       transforms.RandomHorizontalFlip(),\n",
    "                                       transforms.ToTensor(),\n",
    "                                       transforms.Normalize([0.485, 0.456, 0.406],\n",
    "                                                            [0.229, 0.224, 0.225])])\n",
    "\n",
    "# Load the images from the image folder\n",
    "traindata = datasets.ImageFolder(data_dir + '/train', transform=resnet_transforms)\n",
    "testdata = datasets.ImageFolder(data_dir + '/test', transform=resnet_transforms)\n",
    "\n",
    "# Load from the training and test sets\n",
    "trainloader = torch.utils.data.DataLoader(traindata, batch_size=num_train, shuffle=True)\n",
    "testloader = torch.utils.data.DataLoader(testdata, batch_size=num_test, shuffle=True)\n",
    "# Check if cuda is available, and set pytorch to run on GPU or CPU as appropriate\n",
    "if torch.cuda.is_available():\n",
    "    device = torch.device(\"cuda\")\n",
    "    print('Cuda available, running on GPU')\n",
    "else:\n",
    "    device = torch.device(\"cpu\")\n",
    "    print('Cuda is not available, running on CPU')\n",
    "    # Give the user a message so they know what is going on\n",
    "\n",
    "# Get the pre-trained model, here it is resnet18\n",
    "model = models.resnet18(pretrained=True)\n",
    "#print(model) \n",
    "# Printing the model shows some of the internal layers, not expected to\n",
    "# understand these but neat to see\n",
    "\n",
    "# Freeze the pre-trained layers, no need to update featue detection\n",
    "for param in model.parameters():\n",
    "    param.requires_grad = False\n",
    "\n",
    "# Get the number of features the model expects in the final fully connected layer, this is different\n",
    "# in different models\n",
    "num_ftrs = model.fc.in_features\n",
    "\n",
    "# Re-define the final fully connected layer (model.fc, fc = fully connected)\n",
    "model.fc = nn.Sequential(nn.Linear(num_ftrs, 512), # input features converts to 512 features \n",
    "                                 nn.ReLU(),\n",
    "                                 nn.Dropout(0.2),\n",
    "                                 # The next line needs to be modified for the number of classes\n",
    "                                 # in the data set. For the microscope images I currently have \n",
    "                                 # five classes, so there are 5 outputs\n",
    "                                 nn.Linear(512, 5), # 512 inputs to 5 outputs\n",
    "                                 nn.LogSoftmax(dim=1))\n",
    "criterion = nn.NLLLoss()\n",
    "optimizer = optim.Adam(model.fc.parameters(), lr=0.003)\n",
    "model.to(device)\n",
    "\n",
    "\n",
    "# Train the network\n",
    "epochs = 2\n",
    "steps = 0\n",
    "running_loss = 0\n",
    "print_every = 10\n",
    "train_losses, test_losses, accuracy_tracker = [], [], []\n",
    "for epoch in range(epochs):\n",
    "    for inputs, labels in trainloader:\n",
    "        steps += 1\n",
    "        inputs, labels = inputs.to(device), labels.to(device)\n",
    "        optimizer.zero_grad()\n",
    "        logps = model.forward(inputs)\n",
    "        loss = criterion(logps, labels)\n",
    "        loss.backward()\n",
    "        optimizer.step()\n",
    "        running_loss += loss.item()\n",
    "        \n",
    "        if steps % print_every == 0:\n",
    "            test_loss = 0\n",
    "            accuracy = 0\n",
    "            model.eval()\n",
    "            with torch.no_grad():\n",
    "                for inputs, labels in testloader:\n",
    "                    inputs = inputs.to(device)\n",
    "                    labels = labels.to(device)\n",
    "                    logps = model.forward(inputs)\n",
    "                    batch_loss = criterion(logps, labels)\n",
    "                    test_loss += batch_loss.item()\n",
    "                    \n",
    "                    ps = torch.exp(logps)\n",
    "                    top_p, top_class = ps.topk(1, dim=1)\n",
    "                    equals = top_class == labels.view(*top_class.shape)\n",
    "                    accuracy += torch.mean(equals.type(torch.FloatTensor)).item()\n",
    "            train_losses.append(running_loss/len(trainloader))\n",
    "            test_losses.append(test_loss/len(testloader))\n",
    "            accuracy_tracker.append(accuracy/len(testloader))                    \n",
    "            print(f\"Epoch {epoch+1}/{epochs}.. \"\n",
    "                  f\"Train loss: {running_loss/print_every:.3f}.. \"\n",
    "                  f\"Test loss: {test_loss/len(testloader):.3f}.. \"\n",
    "                  f\"Test accuracy: {accuracy/len(testloader):.3f}\")\n",
    "            running_loss = 0\n",
    "            model.train()\n",
    "\n",
    "# Save the model\n",
    "torch.save(model, 'autofocus_resnet18.pth')"
   ]
  },
  {
   "cell_type": "code",
   "execution_count": 3,
   "metadata": {},
   "outputs": [],
   "source": [
    "# Save the information about how training went\n",
    "# Get a unique date and time to id this training round\n",
    "now = datetime.datetime.now()\n",
    "time_string = (':').join([str(now.hour), str(now.minute)]) \n",
    "date_string = ('-').join([str(now.month), str(now.day), str(now.year)])\n",
    "file_name = ('_').join(['resnet18_training', date_string, time_string])\n",
    "\n",
    "fileObject = open(file_name, 'wb')\n",
    "training_data = [train_losses, test_losses, accuracy_tracker]\n",
    "pickle.dump(training_data, fileObject)\n",
    "fileObject.close\n",
    "fileObject.close()"
   ]
  },
  {
   "cell_type": "code",
   "execution_count": 6,
   "metadata": {},
   "outputs": [
    {
     "data": {
      "image/png": "[encoded data removed]",
      "text/plain": [
       "<Figure size 432x288 with 1 Axes>"
      ]
     },
     "metadata": {
      "needs_background": "light"
     },
     "output_type": "display_data"
    }
   ],
   "source": [
    "%matplotlib inline\n",
    "plt.plot(train_losses, label='Training loss')\n",
    "plt.plot(test_losses, label='Validation loss')\n",
    "plt.legend(frameon=False)\n",
    "plt.show()"
   ]
  },
  {
   "cell_type": "markdown",
   "metadata": {},
   "source": [
    "These training results are in line with what I observed running Resnet18 on the GPU - training plateaus and the model never really improves past just under 40% accuracy."
   ]
  }
 ],
 "metadata": {
  "kernelspec": {
   "display_name": "Python 3",
   "language": "python",
   "name": "python3"
  },
  "language_info": {
   "codemirror_mode": {
    "name": "ipython",
    "version": 3
   },
   "file_extension": ".py",
   "mimetype": "text/x-python",
   "name": "python",
   "nbconvert_exporter": "python",
   "pygments_lexer": "ipython3",
   "version": "3.7.3"
  }
 },
 "nbformat": 4,
 "nbformat_minor": 2
}
