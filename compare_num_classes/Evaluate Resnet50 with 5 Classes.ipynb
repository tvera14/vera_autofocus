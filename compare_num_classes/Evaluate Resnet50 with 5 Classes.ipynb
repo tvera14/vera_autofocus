{
 "cells": [
  {
   "cell_type": "markdown",
   "metadata": {},
   "source": [
    "This resnet50 model was trained using 5 classes. This training process is documented in \"Custom Dataset Class Testing with Resnet50\", since it is when I was working out the better import process."
   ]
  },
  {
   "cell_type": "code",
   "execution_count": 1,
   "metadata": {},
   "outputs": [],
   "source": [
    "# Quick check to see how many images there are per class\n",
    "\n",
    "def count_images(file_path):\n",
    "    # Finds class folders, makes a list of classes, and counts how many images are in each class\n",
    "    import os\n",
    "    from pathlib import Path\n",
    "    \n",
    "    image_counter = []\n",
    "    \n",
    "    for class_name in os.listdir(file_path):\n",
    "        # Exclude .DS_Store\n",
    "        if class_name != '.DS_Store':\n",
    "\n",
    "            # Make a Path to the class directory\n",
    "            class_dir = Path(file_path) / class_name\n",
    "\n",
    "            # Note that this is set to work with .png images and needs modification\n",
    "            # to work with other types\n",
    "            image_counter.append(len(os.listdir(class_dir)))\n",
    "                          \n",
    "    return image_counter"
   ]
  },
  {
   "cell_type": "code",
   "execution_count": 2,
   "metadata": {},
   "outputs": [
    {
     "data": {
      "text/plain": [
       "[95, 298, 57, 95, 310]"
      ]
     },
     "execution_count": 2,
     "metadata": {},
     "output_type": "execute_result"
    }
   ],
   "source": [
    "train_path = '/Users/zplab/Desktop/VeraPythonScripts/vera_autofocus/microscope_images/train'\n",
    "train_counts = count_images(train_path)\n",
    "train_counts"
   ]
  },
  {
   "cell_type": "code",
   "execution_count": 3,
   "metadata": {},
   "outputs": [
    {
     "data": {
      "text/plain": [
       "[100, 292, 60, 100, 348]"
      ]
     },
     "execution_count": 3,
     "metadata": {},
     "output_type": "execute_result"
    }
   ],
   "source": [
    "test_path = '/Users/zplab/Desktop/VeraPythonScripts/vera_autofocus/microscope_images/test'\n",
    "test_counts = count_images(test_path)\n",
    "test_counts"
   ]
  },
  {
   "cell_type": "code",
   "execution_count": 4,
   "metadata": {},
   "outputs": [
    {
     "name": "stdout",
     "output_type": "stream",
     "text": [
      "Detected 5 classes in training data\n",
      "['slightly_out_neg', 'very_out_neg', 'acceptable', 'slightly_out_pos', 'very_out_pos']\n",
      "Train batch size = 10, test batch size = 10\n",
      "Trainloder length = 86, testloader length = 90\n"
     ]
    }
   ],
   "source": [
    "# Import the image processing functions and class\n",
    "from image_import import process_image, de_process_image, wormDataset\n",
    "\n",
    "# Import all needed libraries\n",
    "import matplotlib.pyplot as plt\n",
    "import numpy as np\n",
    "import torch\n",
    "from torch import nn\n",
    "from torch import optim\n",
    "import torch.nn.functional as F\n",
    "from torchvision import datasets, transforms, models\n",
    "# These last two are used to save info about how the training progressed\n",
    "import pickle\n",
    "import datetime\n",
    "\n",
    "# Set the full path to the main image directory\n",
    "train_dir = '/Users/zplab/Desktop/VeraPythonScripts/vera_autofocus/microscope_images/train'\n",
    "test_dir = '/Users/zplab/Desktop/VeraPythonScripts/vera_autofocus/microscope_images/test'\n",
    "num_train = 10\n",
    "num_test = 10\n",
    "\n",
    "means = [0.485, 0.456, 0.406]\n",
    "stds = [0.229, 0.224, 0.225]\n",
    "\n",
    "traindata = wormDataset(train_dir, means, stds)\n",
    "testdata = wormDataset(test_dir, means, stds)\n",
    "\n",
    "# Load from the training and test sets\n",
    "trainloader = torch.utils.data.DataLoader(traindata, batch_size=num_train, shuffle=True)\n",
    "testloader = torch.utils.data.DataLoader(testdata, batch_size=num_test, shuffle=True)\n",
    "\n",
    "# Get the classes\n",
    "class_names = traindata.classes\n",
    "print('Detected ' + str(len(class_names)) + ' classes in training data')\n",
    "print(class_names)\n",
    "\n",
    "# Print out how many images are in the trainloader and testloader\n",
    "print(\"Train batch size = \" + str(num_train) + ', test batch size = ' + str(num_test))\n",
    "print('Trainloder length = ' + str(len(trainloader)) + ', testloader length = ' + str(len(testloader)))"
   ]
  },
  {
   "cell_type": "code",
   "execution_count": 5,
   "metadata": {},
   "outputs": [],
   "source": [
    "%%capture \n",
    "\n",
    "# Load up the trained model\n",
    "model_path = '/Users/zplab/Desktop/VeraPythonScripts/vera_autofocus/compare_num_classes/resnet50_5cat.pth'\n",
    "model = torch.load(model_path)\n",
    "model.eval() # Put the model in eval mode"
   ]
  },
  {
   "cell_type": "code",
   "execution_count": 6,
   "metadata": {},
   "outputs": [
    {
     "name": "stdout",
     "output_type": "stream",
     "text": [
      "Accuracy of the network on 900 test images: 74 %\n"
     ]
    }
   ],
   "source": [
    "# Evaluate on all images in the test loader\n",
    "correct = 0\n",
    "total = 0\n",
    "with torch.no_grad():\n",
    "    for data in testloader:\n",
    "        images, labels = data\n",
    "        outputs = model(images)\n",
    "        _, predicted = torch.max(outputs.data, 1)\n",
    "        total += labels.size(0)\n",
    "        correct += (predicted == labels).sum().item()\n",
    "\n",
    "print('Accuracy of the network on ' + str(total) + ' test images: %d %%' % (\n",
    "    100 * correct / total))"
   ]
  },
  {
   "cell_type": "markdown",
   "metadata": {},
   "source": [
    "The model trained on 7 classes has accuracy of 67% after the same number of rounds of training. The model with 3 classes has >90%, but also never classifies anything as acceptable due to sample bias (3 acceptable images in a stack of 40, so many more out of focus than in focus).\n",
    "\n",
    "This 5 category model was trained when I was still assigning string names to the folders rather than numbering them, which makes a less intuitive confusion matrix. To overcome this I modified the confusion matrix code to re-order the columns and rows for:\n",
    "0) Very out neg\n",
    "1) Slightly out neg\n",
    "2) Acceptable\n",
    "3) Slightly out pos\n",
    "4) Very out pos"
   ]
  },
  {
   "cell_type": "code",
   "execution_count": 9,
   "metadata": {},
   "outputs": [
    {
     "name": "stdout",
     "output_type": "stream",
     "text": [
      "['slightly_out_neg', 'very_out_neg', 'acceptable', 'slightly_out_pos', 'very_out_pos']\n"
     ]
    }
   ],
   "source": [
    "print(class_names)"
   ]
  },
  {
   "cell_type": "code",
   "execution_count": 12,
   "metadata": {},
   "outputs": [],
   "source": [
    "def label_convert(class_names, label):\n",
    "    if class_names[label] == 'very_out_neg':\n",
    "        new_label = 0\n",
    "    elif class_names[label] == 'slightly_out_neg':\n",
    "        new_label = 1\n",
    "    elif class_names[label] == 'acceptable':\n",
    "        new_label = 2\n",
    "    elif class_names[label] == 'slightly_out_pos':\n",
    "        new_label = 3\n",
    "    else:\n",
    "        new_label = 4\n",
    "    return new_label"
   ]
  },
  {
   "cell_type": "code",
   "execution_count": 15,
   "metadata": {},
   "outputs": [
    {
     "name": "stdout",
     "output_type": "stream",
     "text": [
      "[[292.   0.   0.   0.   0.]\n",
      " [ 70.   0.  30.   0.   0.]\n",
      " [  3.   0.  57.   0.   0.]\n",
      " [  0.   0.  71.  28.   1.]\n",
      " [  0.   0.   3.  49. 296.]]\n"
     ]
    }
   ],
   "source": [
    "# Evaluate on all images in the test loader\n",
    "confusion_matrix = np.zeros((5, 5))\n",
    "\n",
    "class_names = testdata.classes\n",
    "\n",
    "with torch.no_grad():\n",
    "    for data in testloader:\n",
    "        # This is processing in batches, the number of things in images and labels is the\n",
    "        # the same as the batch size\n",
    "        images, labels = data\n",
    "        outputs = model(images)\n",
    "        predicted = torch.max(outputs.data, 1)\n",
    "        num_labels = labels.size(0)\n",
    "        total += num_labels\n",
    "        for i in range(num_labels): # Iterate through the labels in the batch\n",
    "            \n",
    "            # Increase the cell corresponding to the label / prediction pair by one\n",
    "            confusion_matrix[label_convert(class_names, labels[i]), label_convert(class_names, predicted.indices[i])] += 1\n",
    "            \n",
    "print(confusion_matrix)"
   ]
  },
  {
   "cell_type": "code",
   "execution_count": 16,
   "metadata": {},
   "outputs": [
    {
     "name": "stdout",
     "output_type": "stream",
     "text": [
      "Images in folders:\n",
      "[100, 292, 60, 100, 348]\n",
      "\n",
      "Labels in Confusion Matrix:\n",
      "[292. 100.  60. 100. 348.]\n"
     ]
    }
   ],
   "source": [
    "# Check that the numbers in the confusion matrix make sense\n",
    "print('Images in folders:')\n",
    "print(test_counts)\n",
    "print('')\n",
    "\n",
    "print('Labels in Confusion Matrix:')\n",
    "print(np.sum(confusion_matrix, axis=1))\n",
    "\n",
    "# The numbers match, and one column has switched position consistent with the convert_label function working"
   ]
  },
  {
   "cell_type": "code",
   "execution_count": 17,
   "metadata": {},
   "outputs": [
    {
     "data": {
      "image/png": "[encoded data removed]",
      "text/plain": [
       "<Figure size 432x288 with 1 Axes>"
      ]
     },
     "metadata": {
      "needs_background": "light"
     },
     "output_type": "display_data"
    }
   ],
   "source": [
    "# Make a nicer version of the confusion matrix with axis labels\n",
    "plt.title('7 Category Confusion Matrix')\n",
    "plt.ylabel('Labels (True Class)')\n",
    "plt.xlabel('Predicted')\n",
    "plt.imshow(confusion_matrix, cmap='hot', interpolation='nearest')\n",
    "plt.show()"
   ]
  },
  {
   "cell_type": "code",
   "execution_count": 42,
   "metadata": {},
   "outputs": [
    {
     "name": "stdout",
     "output_type": "stream",
     "text": [
      "74.77777777777777\n"
     ]
    }
   ],
   "source": [
    "# Percent accurate\n",
    "percent_accurate = np.sum(np.diagonal(confusion_matrix)) / np.sum(confusion_matrix) * 100\n",
    "print(percent_accurate)"
   ]
  },
  {
   "cell_type": "code",
   "execution_count": 43,
   "metadata": {},
   "outputs": [
    {
     "data": {
      "text/plain": [
       "0.33333333333333337"
      ]
     },
     "execution_count": 43,
     "metadata": {},
     "output_type": "execute_result"
    }
   ],
   "source": [
    "# Row 2 is true acceptable, column 2 is predicted acceptable\n",
    "# Errors in which an acceptable image is mistaken for out of focus\n",
    "(np.sum(confusion_matrix[2,:]) - confusion_matrix[2,2]) / np.sum(confusion_matrix) * 100"
   ]
  },
  {
   "cell_type": "code",
   "execution_count": 44,
   "metadata": {},
   "outputs": [
    {
     "data": {
      "text/plain": [
       "11.555555555555555"
      ]
     },
     "execution_count": 44,
     "metadata": {},
     "output_type": "execute_result"
    }
   ],
   "source": [
    "# Errors in which an out of focus image is mistaken for acceptable\n",
    "(np.sum(confusion_matrix[:,2]) - confusion_matrix[2,2]) / np.sum(confusion_matrix) * 100"
   ]
  },
  {
   "cell_type": "code",
   "execution_count": 45,
   "metadata": {},
   "outputs": [
    {
     "name": "stdout",
     "output_type": "stream",
     "text": [
      "11.88888888888889\n"
     ]
    }
   ],
   "source": [
    "# Percent of failure errors\n",
    "percent_failure = (np.sum(confusion_matrix[2,:]) + np.sum(confusion_matrix[:,2]) - (2 * confusion_matrix[2,2])) / np.sum(confusion_matrix) * 100\n",
    "print(percent_failure)"
   ]
  },
  {
   "cell_type": "markdown",
   "metadata": {},
   "source": [
    "The 5 category model has a higher accuracy rate overall (74.7%) than the 7 category model (66%). However, the rate of failure errors are comparable at 10.7% in the 7 category model and 11.8% in the 5 category model. However, the rate of mistaking an in focus image for out of focus in the 5 category model is still 1% or lower, so this is good."
   ]
  },
  {
   "cell_type": "code",
   "execution_count": 52,
   "metadata": {},
   "outputs": [
    {
     "data": {
      "text/plain": [
       "15.666666666666668"
      ]
     },
     "execution_count": 52,
     "metadata": {},
     "output_type": "execute_result"
    }
   ],
   "source": [
    "# Errors in which the predicted class is a neighbor of the true class\n",
    "# Subset the confusion matrix and take the diagonals to get the cells on either side of the main diagonal\n",
    "# (one class off vs. accurate predictions)\n",
    "neighbors_pos = np.diagonal(confusion_matrix[1:, :3])\n",
    "np.sum(neighbors_pos) / np.sum(confusion_matrix) * 100"
   ]
  },
  {
   "cell_type": "code",
   "execution_count": 53,
   "metadata": {},
   "outputs": [
    {
     "data": {
      "text/plain": [
       "3.3333333333333335"
      ]
     },
     "execution_count": 53,
     "metadata": {},
     "output_type": "execute_result"
    }
   ],
   "source": [
    "neighbors_neg = np.diagonal(confusion_matrix[:3, 1:])\n",
    "np.sum(neighbors_neg) / np.sum(confusion_matrix) * 100"
   ]
  },
  {
   "cell_type": "code",
   "execution_count": 54,
   "metadata": {},
   "outputs": [
    {
     "name": "stdout",
     "output_type": "stream",
     "text": [
      "19.0\n"
     ]
    }
   ],
   "source": [
    "percent_neighbor = (np.sum(neighbors_pos) + np.sum(neighbors_neg)) / np.sum(confusion_matrix) * 100 \n",
    "print(percent_neighbor)"
   ]
  },
  {
   "cell_type": "markdown",
   "metadata": {},
   "source": [
    "In both the 5 category and 7 category models, there is a tendency for more positive than negative neighbor errors. The number of neighbor errors in the 5 category model appears to be greater, however, I think the main cause is that with 7 categories there are more ways to be wrong that aren't a neighbor error. The 7 category model has lots of these \"other\" errors"
   ]
  },
  {
   "cell_type": "code",
   "execution_count": 49,
   "metadata": {},
   "outputs": [
    {
     "data": {
      "text/plain": [
       "array([ 0.,  0., 57.,  0.,  0.])"
      ]
     },
     "execution_count": 49,
     "metadata": {},
     "output_type": "execute_result"
    }
   ],
   "source": [
    "# Errors in which the model gets the direction wrong\n",
    "# Thinks the plane of focus is above best focus when it is below, and vice-versa\n",
    "# These are on the upper right to lower left diagonal, get this by flipping the array\n",
    "np.diagonal(np.fliplr(confusion_matrix))"
   ]
  },
  {
   "cell_type": "code",
   "execution_count": 50,
   "metadata": {},
   "outputs": [
    {
     "name": "stdout",
     "output_type": "stream",
     "text": [
      "0.0\n"
     ]
    }
   ],
   "source": [
    "percent_opposite = (np.sum(np.diagonal(np.fliplr(confusion_matrix))) - confusion_matrix[2,2]) / np.sum(confusion_matrix) * 100\n",
    "print(percent_opposite)"
   ]
  },
  {
   "cell_type": "markdown",
   "metadata": {},
   "source": [
    "There are ZERO opposite errors in the 5 category model."
   ]
  },
  {
   "cell_type": "code",
   "execution_count": 55,
   "metadata": {},
   "outputs": [
    {
     "name": "stdout",
     "output_type": "stream",
     "text": [
      "-5.666666666666657\n"
     ]
    }
   ],
   "source": [
    "percent_other = 100 - percent_failure - percent_neighbor - percent_opposite - percent_accurate\n",
    "print(percent_other)\n",
    "# As of right now I have no idea which one of my measurements is off, need ot figure this out before relying on results"
   ]
  },
  {
   "cell_type": "code",
   "execution_count": 58,
   "metadata": {},
   "outputs": [
    {
     "data": {
      "image/png": "[encoded data removed]",
      "text/plain": [
       "<Figure size 432x288 with 1 Axes>"
      ]
     },
     "metadata": {
      "needs_background": "light"
     },
     "output_type": "display_data"
    }
   ],
   "source": [
    "import matplotlib.pyplot as plt\n",
    "bars = ['Accurate', 'Failure', 'Neighbor', 'Opposite', 'Other']\n",
    "y_pos = np.arange(len(bars))\n",
    "plt.bar(y_pos, [percent_accurate, percent_failure, percent_neighbor, percent_opposite, percent_other])\n",
    "plt.title('Results by Category')\n",
    "plt.ylabel('% of Total Predictions')\n",
    "plt.xticks(y_pos, bars)\n",
    "plt.ylim(0, 100)\n",
    "plt.show()"
   ]
  },
  {
   "cell_type": "code",
   "execution_count": null,
   "metadata": {},
   "outputs": [],
   "source": []
  }
 ],
 "metadata": {
  "kernelspec": {
   "display_name": "Python 3",
   "language": "python",
   "name": "python3"
  },
  "language_info": {
   "codemirror_mode": {
    "name": "ipython",
    "version": 3
   },
   "file_extension": ".py",
   "mimetype": "text/x-python",
   "name": "python",
   "nbconvert_exporter": "python",
   "pygments_lexer": "ipython3",
   "version": "3.7.3"
  }
 },
 "nbformat": 4,
 "nbformat_minor": 2
}
