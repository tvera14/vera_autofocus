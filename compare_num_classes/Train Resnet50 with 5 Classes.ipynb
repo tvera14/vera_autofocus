{
 "cells": [
  {
   "cell_type": "markdown",
   "metadata": {},
   "source": [
    "Re-training Resnet50 with 5 classes in order to get ordered, numbered folders. I found that the wormDataset wasn't always bringing the folders in in the same order as the class numbering system, which is just MASSIVELY annoying to deal with when using the model - the prediction indices don't nicely correspond to the classes."
   ]
  },
  {
   "cell_type": "code",
   "execution_count": 1,
   "metadata": {},
   "outputs": [],
   "source": [
    "# Quick check to see how many images there are per class\n",
    "\n",
    "def count_images(file_path):\n",
    "    # Finds class folders, makes a list of classes, and counts how many images are in each class\n",
    "    import os\n",
    "    from pathlib import Path\n",
    "    \n",
    "    image_counter = []\n",
    "    class_names = []\n",
    "    \n",
    "    for class_name in sorted(os.listdir(file_path)):\n",
    "        # Exclude .DS_Store\n",
    "        if class_name != '.DS_Store':\n",
    "            \n",
    "            class_names.append(class_name)\n",
    "\n",
    "            # Make a Path to the class directory\n",
    "            class_dir = Path(file_path) / class_name\n",
    "\n",
    "            # Note that this is set to work with .png images and needs modification\n",
    "            # to work with other types\n",
    "            image_counter.append(len(os.listdir(class_dir)))\n",
    "                          \n",
    "    return image_counter, class_names"
   ]
  },
  {
   "cell_type": "code",
   "execution_count": 2,
   "metadata": {},
   "outputs": [
    {
     "name": "stdout",
     "output_type": "stream",
     "text": [
      "['0', '1', '2', '3', '4']\n",
      "[298, 95, 57, 95, 310]\n"
     ]
    }
   ],
   "source": [
    "train_path = '/Users/zplab/Desktop/VeraPythonScripts/vera_autofocus/microscope_images/train'\n",
    "train_counts, class_names = count_images(train_path)\n",
    "print(class_names)\n",
    "print(train_counts)"
   ]
  },
  {
   "cell_type": "code",
   "execution_count": 3,
   "metadata": {},
   "outputs": [
    {
     "name": "stdout",
     "output_type": "stream",
     "text": [
      "['0', '1', '2', '3', '4']\n",
      "[292, 100, 60, 100, 348]\n"
     ]
    }
   ],
   "source": [
    "test_path = '/Users/zplab/Desktop/VeraPythonScripts/vera_autofocus/microscope_images/test'\n",
    "test_counts, class_names = count_images(test_path)\n",
    "print(class_names)\n",
    "print(test_counts)"
   ]
  },
  {
   "cell_type": "code",
   "execution_count": 4,
   "metadata": {},
   "outputs": [
    {
     "name": "stdout",
     "output_type": "stream",
     "text": [
      "Detected 5 classes in training data\n",
      "['0', '1', '2', '3', '4']\n",
      "Train batch size = 10, test batch size = 10\n",
      "Trainloder length = 86, testloader length = 90\n"
     ]
    }
   ],
   "source": [
    "# Import the image processing functions and class\n",
    "from image_import import process_image, de_process_image, wormDataset\n",
    "\n",
    "# Import all needed libraries\n",
    "import matplotlib.pyplot as plt\n",
    "import numpy as np\n",
    "import torch\n",
    "from torch import nn\n",
    "from torch import optim\n",
    "import torch.nn.functional as F\n",
    "from torchvision import datasets, transforms, models\n",
    "# These last two are used to save info about how the training progressed\n",
    "import pickle\n",
    "import datetime\n",
    "\n",
    "# Set the full path to the main image directory\n",
    "train_dir = '/Users/zplab/Desktop/VeraPythonScripts/vera_autofocus/microscope_images/train'\n",
    "test_dir = '/Users/zplab/Desktop/VeraPythonScripts/vera_autofocus/microscope_images/test'\n",
    "num_train = 10\n",
    "num_test = 10\n",
    "\n",
    "means = [0.485, 0.456, 0.406]\n",
    "stds = [0.229, 0.224, 0.225]\n",
    "\n",
    "traindata = wormDataset(train_dir, means, stds)\n",
    "testdata = wormDataset(test_dir, means, stds)\n",
    "\n",
    "# Load from the training and test sets\n",
    "trainloader = torch.utils.data.DataLoader(traindata, batch_size=num_train, shuffle=True)\n",
    "testloader = torch.utils.data.DataLoader(testdata, batch_size=num_test, shuffle=True)\n",
    "\n",
    "# Get the classes\n",
    "class_names = traindata.classes\n",
    "print('Detected ' + str(len(class_names)) + ' classes in training data')\n",
    "print(class_names)\n",
    "\n",
    "# Print out how many images are in the trainloader and testloader\n",
    "print(\"Train batch size = \" + str(num_train) + ', test batch size = ' + str(num_test))\n",
    "print('Trainloder length = ' + str(len(trainloader)) + ', testloader length = ' + str(len(testloader)))"
   ]
  },
  {
   "cell_type": "code",
   "execution_count": 6,
   "metadata": {},
   "outputs": [],
   "source": [
    "%%capture \n",
    "# Prevent printing out the model architecture\n",
    "# Check if cuda is available, and set pytorch to run on GPU or CPU as appropriate\n",
    "if torch.cuda.is_available():\n",
    "    device = torch.device(\"cuda\")\n",
    "    print('Cuda available, running on GPU')\n",
    "else:\n",
    "    device = torch.device(\"cpu\")\n",
    "    print('Cuda is not available, running on CPU')\n",
    "    # Give the user a message so they know what is going on\n",
    "\n",
    "model = models.resnet50(pretrained=True)\n",
    "#print(model) \n",
    "# Printing the model shows some of the internal layers, not expected to\n",
    "# understand these but neat to see\n",
    "\n",
    "# Freeze the pre-trained layers, no need to update featue detection\n",
    "for param in model.parameters():\n",
    "    param.requires_grad = False\n",
    "\n",
    "# Get the number of features the model expects in the final fully connected layer, this is different\n",
    "# in different models\n",
    "num_ftrs = model.fc.in_features\n",
    "\n",
    "# Re-define the final fully connected layer (model.fc, fc = fully connected)\n",
    "model.fc = nn.Sequential(nn.Linear(num_ftrs, 512), # 2048 inputs to 512 outputs \n",
    "                                 nn.ReLU(),\n",
    "                                 nn.Dropout(0.2),\n",
    "                                 # The next line needs to be modified for the number of classes\n",
    "                                 # in the data set. For the microscope images I currently have \n",
    "                                 # five classes, so there are 5 outputs\n",
    "                                 nn.Linear(512, 5), # 512 inputs to 5 outputs\n",
    "                                 nn.LogSoftmax(dim=1))\n",
    "criterion = nn.NLLLoss()\n",
    "optimizer = optim.Adam(model.fc.parameters(), lr=0.003)\n",
    "model.to(device)"
   ]
  },
  {
   "cell_type": "code",
   "execution_count": 7,
   "metadata": {},
   "outputs": [
    {
     "name": "stdout",
     "output_type": "stream",
     "text": [
      "Epoch 1/2.. Train loss: 2.895.. Test loss: 1.266.. Test accuracy: 0.736\n",
      "Epoch 1/2.. Train loss: 1.196.. Test loss: 0.838.. Test accuracy: 0.697\n",
      "Epoch 1/2.. Train loss: 0.705.. Test loss: 0.669.. Test accuracy: 0.764\n",
      "Epoch 1/2.. Train loss: 0.765.. Test loss: 0.701.. Test accuracy: 0.747\n",
      "Epoch 1/2.. Train loss: 0.794.. Test loss: 0.594.. Test accuracy: 0.743\n",
      "Epoch 1/2.. Train loss: 0.546.. Test loss: 0.530.. Test accuracy: 0.733\n",
      "Epoch 1/2.. Train loss: 0.592.. Test loss: 0.545.. Test accuracy: 0.808\n",
      "Epoch 1/2.. Train loss: 0.563.. Test loss: 0.407.. Test accuracy: 0.853\n",
      "Epoch 2/2.. Train loss: 0.685.. Test loss: 0.673.. Test accuracy: 0.741\n",
      "Epoch 2/2.. Train loss: 0.786.. Test loss: 0.412.. Test accuracy: 0.848\n",
      "Epoch 2/2.. Train loss: 0.764.. Test loss: 0.522.. Test accuracy: 0.777\n",
      "Epoch 2/2.. Train loss: 0.536.. Test loss: 0.340.. Test accuracy: 0.868\n",
      "Epoch 2/2.. Train loss: 0.547.. Test loss: 0.411.. Test accuracy: 0.814\n",
      "Epoch 2/2.. Train loss: 0.806.. Test loss: 0.353.. Test accuracy: 0.854\n",
      "Epoch 2/2.. Train loss: 0.508.. Test loss: 0.377.. Test accuracy: 0.859\n",
      "Epoch 2/2.. Train loss: 0.461.. Test loss: 0.390.. Test accuracy: 0.836\n",
      "Epoch 2/2.. Train loss: 0.533.. Test loss: 0.360.. Test accuracy: 0.847\n"
     ]
    }
   ],
   "source": [
    "# Train the network\n",
    "epochs = 2\n",
    "steps = 0\n",
    "running_loss = 0\n",
    "print_every = 10\n",
    "train_losses, test_losses, accuracy_tracker = [], [], []\n",
    "for epoch in range(epochs):\n",
    "    for inputs, labels in trainloader:\n",
    "        steps += 1\n",
    "        inputs, labels = inputs.to(device), labels.to(device)\n",
    "        optimizer.zero_grad()\n",
    "        logps = model.forward(inputs)\n",
    "        loss = criterion(logps, labels)\n",
    "        loss.backward()\n",
    "        optimizer.step()\n",
    "        running_loss += loss.item()\n",
    "        \n",
    "        if steps % print_every == 0:\n",
    "            test_loss = 0\n",
    "            accuracy = 0\n",
    "            model.eval()\n",
    "            with torch.no_grad():\n",
    "                for inputs, labels in testloader:\n",
    "                    inputs = inputs.to(device)\n",
    "                    labels = labels.to(device)\n",
    "                    logps = model.forward(inputs)\n",
    "                    batch_loss = criterion(logps, labels)\n",
    "                    test_loss += batch_loss.item()\n",
    "                    \n",
    "                    ps = torch.exp(logps)\n",
    "                    top_p, top_class = ps.topk(1, dim=1)\n",
    "                    equals = top_class == labels.view(*top_class.shape)\n",
    "                    accuracy += torch.mean(equals.type(torch.FloatTensor)).item()\n",
    "            train_losses.append(running_loss/len(trainloader))\n",
    "            test_losses.append(test_loss/len(testloader)) \n",
    "            accuracy_tracker.append(accuracy/len(testloader))                     \n",
    "            print(f\"Epoch {epoch+1}/{epochs}.. \"\n",
    "                  f\"Train loss: {running_loss/print_every:.3f}.. \"\n",
    "                  f\"Test loss: {test_loss/len(testloader):.3f}.. \"\n",
    "                  f\"Test accuracy: {accuracy/len(testloader):.3f}\")\n",
    "            running_loss = 0\n",
    "            model.train()\n",
    "torch.save(model, 'resnet50_5cat.pth')"
   ]
  },
  {
   "cell_type": "code",
   "execution_count": 8,
   "metadata": {},
   "outputs": [],
   "source": [
    "# Save the information about how training went\n",
    "# Get a unique date and time to id this training round\n",
    "now = datetime.datetime.now()\n",
    "time_string = ('-').join([str(now.hour), str(now.minute)]) \n",
    "date_string = ('-').join([str(now.month), str(now.day), str(now.year)])\n",
    "file_name = ('_').join(['resnet50_5cat_training', date_string, time_string])\n",
    "\n",
    "fileObject = open(file_name, 'wb')\n",
    "training_data = [train_losses, test_losses, accuracy_tracker]\n",
    "pickle.dump(training_data, fileObject)\n",
    "fileObject.close\n",
    "fileObject.close()"
   ]
  },
  {
   "cell_type": "code",
   "execution_count": 9,
   "metadata": {},
   "outputs": [
    {
     "data": {
      "image/png": "[encoded data removed]",
      "text/plain": [
       "<Figure size 432x288 with 1 Axes>"
      ]
     },
     "metadata": {
      "needs_background": "light"
     },
     "output_type": "display_data"
    }
   ],
   "source": [
    "plt.plot(train_losses, label='Training loss')\n",
    "plt.plot(test_losses, label='Validation loss')\n",
    "plt.legend(frameon=False)\n",
    "plt.show()"
   ]
  },
  {
   "cell_type": "code",
   "execution_count": 10,
   "metadata": {},
   "outputs": [
    {
     "name": "stdout",
     "output_type": "stream",
     "text": [
      "Accuracy of the network on 900 test images: 74 %\n"
     ]
    }
   ],
   "source": [
    "# Evaluate on all images in the test loader\n",
    "correct = 0\n",
    "total = 0\n",
    "with torch.no_grad():\n",
    "    for data in testloader:\n",
    "        images, labels = data\n",
    "        outputs = model(images)\n",
    "        _, predicted = torch.max(outputs.data, 1)\n",
    "        total += labels.size(0)\n",
    "        correct += (predicted == labels).sum().item()\n",
    "\n",
    "print('Accuracy of the network on ' + str(total) + ' test images: %d %%' % (\n",
    "    100 * correct / total))"
   ]
  },
  {
   "cell_type": "code",
   "execution_count": 11,
   "metadata": {},
   "outputs": [
    {
     "name": "stdout",
     "output_type": "stream",
     "text": [
      "[[275.   2.   0.   0.  15.]\n",
      " [ 45.  24.   1.   2.  28.]\n",
      " [  3.  23.   2.   4.  28.]\n",
      " [  1.   8.   1.  13.  77.]\n",
      " [  0.   1.   0.   1. 346.]]\n"
     ]
    }
   ],
   "source": [
    "# Evaluate on all images in the test loader\n",
    "confusion_matrix = np.zeros((5, 5))\n",
    "\n",
    "class_names = testdata.classes\n",
    "\n",
    "with torch.no_grad():\n",
    "    for data in testloader:\n",
    "        # This is processing in batches, the number of things in images and labels is the\n",
    "        # the same as the batch size\n",
    "        images, labels = data\n",
    "        outputs = model(images)\n",
    "        predicted = torch.max(outputs.data, 1)\n",
    "        num_labels = labels.size(0)\n",
    "        total += num_labels\n",
    "        for i in range(num_labels): # Iterate through the labels in the batch\n",
    "            \n",
    "            # Increase the cell corresponding to the label / prediction pair by one\n",
    "            confusion_matrix[labels[i], predicted.indices[i]] += 1\n",
    "            \n",
    "print(confusion_matrix)"
   ]
  },
  {
   "cell_type": "code",
   "execution_count": 12,
   "metadata": {},
   "outputs": [
    {
     "name": "stdout",
     "output_type": "stream",
     "text": [
      "Images in folders:\n",
      "[292, 100, 60, 100, 348]\n",
      "\n",
      "Labels in Confusion Matrix:\n",
      "[292. 100.  60. 100. 348.]\n"
     ]
    }
   ],
   "source": [
    "# Validation check by adding up the rows and seeing if this matches the true image counts from the folder\n",
    "print('Images in folders:')\n",
    "print(test_counts)\n",
    "print('')\n",
    "\n",
    "print('Labels in Confusion Matrix:')\n",
    "print(np.sum(confusion_matrix, axis=1))"
   ]
  },
  {
   "cell_type": "code",
   "execution_count": 14,
   "metadata": {},
   "outputs": [
    {
     "data": {
      "image/png": "[encoded data removed]",
      "text/plain": [
       "<Figure size 432x288 with 1 Axes>"
      ]
     },
     "metadata": {
      "needs_background": "light"
     },
     "output_type": "display_data"
    }
   ],
   "source": [
    "# Make a nicer version of the confusion matrix with axis labels\n",
    "plt.title('5 Category Confusion Matrix')\n",
    "plt.ylabel('Labels (True Class)')\n",
    "plt.xlabel('Predicted')\n",
    "plt.imshow(confusion_matrix, cmap='hot', interpolation='nearest')\n",
    "plt.show()"
   ]
  },
  {
   "cell_type": "code",
   "execution_count": 15,
   "metadata": {},
   "outputs": [
    {
     "name": "stdout",
     "output_type": "stream",
     "text": [
      "73.33333333333333\n"
     ]
    }
   ],
   "source": [
    "# Percent accurate\n",
    "percent_accurate = np.sum(np.diagonal(confusion_matrix)) / np.sum(confusion_matrix) * 100\n",
    "print(percent_accurate)"
   ]
  },
  {
   "cell_type": "code",
   "execution_count": 16,
   "metadata": {},
   "outputs": [
    {
     "data": {
      "text/plain": [
       "6.444444444444445"
      ]
     },
     "execution_count": 16,
     "metadata": {},
     "output_type": "execute_result"
    }
   ],
   "source": [
    "# Row 2 is true acceptable, column 2 is predicted acceptable\n",
    "# Errors in which an acceptable image is mistaken for out of focus\n",
    "(np.sum(confusion_matrix[2,:]) - confusion_matrix[2,2]) / np.sum(confusion_matrix) * 100"
   ]
  },
  {
   "cell_type": "code",
   "execution_count": 17,
   "metadata": {},
   "outputs": [
    {
     "data": {
      "text/plain": [
       "0.2222222222222222"
      ]
     },
     "execution_count": 17,
     "metadata": {},
     "output_type": "execute_result"
    }
   ],
   "source": [
    "# Errors in which an out of focus image is mistaken for acceptable\n",
    "(np.sum(confusion_matrix[:,2]) - confusion_matrix[2,2]) / np.sum(confusion_matrix) * 100"
   ]
  },
  {
   "cell_type": "markdown",
   "metadata": {},
   "source": [
    "The model is MUCH more likely to mistake an out of focus image for acceptable than to mistake an in-focus image for acceptable. This may be a result of bias in the sample, there are many more out of focus images compared to in focus (3 acceptable in a stack of 44)"
   ]
  },
  {
   "cell_type": "code",
   "execution_count": 27,
   "metadata": {},
   "outputs": [
    {
     "name": "stdout",
     "output_type": "stream",
     "text": [
      "6.666666666666667\n"
     ]
    }
   ],
   "source": [
    "# Percent of failure errors\n",
    "percent_failure = (np.sum(confusion_matrix[2,:]) + np.sum(confusion_matrix[:,2]) - (2 * confusion_matrix[2,2])) / np.sum(confusion_matrix) * 100\n",
    "print(percent_failure)"
   ]
  },
  {
   "cell_type": "code",
   "execution_count": 19,
   "metadata": {},
   "outputs": [
    {
     "data": {
      "text/plain": [
       "7.777777777777778"
      ]
     },
     "execution_count": 19,
     "metadata": {},
     "output_type": "execute_result"
    }
   ],
   "source": [
    "# Errors in which the predicted class is a neighbor of the true class\n",
    "# Subset the confusion matrix and take the diagonals to get the cells on either side of the main diagonal\n",
    "# (one class off vs. accurate predictions)\n",
    "neighbors_pos = np.diagonal(confusion_matrix[1:, :6])\n",
    "np.sum(neighbors_pos) / np.sum(confusion_matrix) * 100"
   ]
  },
  {
   "cell_type": "code",
   "execution_count": 20,
   "metadata": {},
   "outputs": [
    {
     "data": {
      "text/plain": [
       "9.333333333333334"
      ]
     },
     "execution_count": 20,
     "metadata": {},
     "output_type": "execute_result"
    }
   ],
   "source": [
    "neighbors_neg = np.diagonal(confusion_matrix[:6, 1:])\n",
    "np.sum(neighbors_neg) / np.sum(confusion_matrix) * 100"
   ]
  },
  {
   "cell_type": "code",
   "execution_count": 21,
   "metadata": {},
   "outputs": [
    {
     "name": "stdout",
     "output_type": "stream",
     "text": [
      "17.11111111111111\n"
     ]
    }
   ],
   "source": [
    "percent_neighbor = (np.sum(neighbors_pos) + np.sum(neighbors_neg)) / np.sum(confusion_matrix) * 100 \n",
    "print(percent_neighbor)"
   ]
  },
  {
   "cell_type": "code",
   "execution_count": 22,
   "metadata": {},
   "outputs": [
    {
     "data": {
      "text/plain": [
       "array([15.,  2.,  2.,  8.,  0.])"
      ]
     },
     "execution_count": 22,
     "metadata": {},
     "output_type": "execute_result"
    }
   ],
   "source": [
    "# Errors in which the model gets the direction wrong\n",
    "# Thinks the plane of focus is above best focus when it is below, and vice-versa\n",
    "# These are on the upper right to lower left diagonal, get this by flipping the array\n",
    "np.diagonal(np.fliplr(confusion_matrix))"
   ]
  },
  {
   "cell_type": "markdown",
   "metadata": {},
   "source": [
    "This particular model has a higher rate of \"opposite\" errors than seen in some other training rounds. These are errors in which the model classes an image as above the optimal focal plane when it is really below, and vice-versa. The largest number of these are in the upper right hand corner, this corresponds to very out below getting classes as very out above."
   ]
  },
  {
   "cell_type": "code",
   "execution_count": 23,
   "metadata": {},
   "outputs": [
    {
     "name": "stdout",
     "output_type": "stream",
     "text": [
      "1.5555555555555556\n"
     ]
    }
   ],
   "source": [
    "percent_opposite = (np.sum(np.diagonal(np.fliplr(confusion_matrix))) - confusion_matrix[2,2]) / np.sum(confusion_matrix) * 100\n",
    "print(percent_opposite)"
   ]
  },
  {
   "cell_type": "code",
   "execution_count": 28,
   "metadata": {},
   "outputs": [
    {
     "name": "stdout",
     "output_type": "stream",
     "text": [
      "1.3333333333333286\n"
     ]
    }
   ],
   "source": [
    "percent_other = 100 - percent_failure - percent_neighbor - percent_opposite - percent_accurate\n",
    "print(percent_other)"
   ]
  },
  {
   "cell_type": "code",
   "execution_count": 29,
   "metadata": {},
   "outputs": [
    {
     "data": {
      "image/png": "[encoded data removed]",
      "text/plain": [
       "<Figure size 432x288 with 1 Axes>"
      ]
     },
     "metadata": {
      "needs_background": "light"
     },
     "output_type": "display_data"
    }
   ],
   "source": [
    "bars = ['Accurate', 'Failure', 'Neighbor', 'Opposite', 'Other']\n",
    "y_pos = np.arange(len(bars))\n",
    "plt.bar(y_pos, [percent_accurate, percent_failure, percent_neighbor, percent_opposite, percent_other])\n",
    "plt.title('Results by Category')\n",
    "plt.ylabel('% of Total Predictions')\n",
    "plt.xticks(y_pos, bars)\n",
    "plt.ylim(0, 100)\n",
    "plt.show()"
   ]
  },
  {
   "cell_type": "code",
   "execution_count": null,
   "metadata": {},
   "outputs": [],
   "source": []
  }
 ],
 "metadata": {
  "kernelspec": {
   "display_name": "Python 3",
   "language": "python",
   "name": "python3"
  },
  "language_info": {
   "codemirror_mode": {
    "name": "ipython",
    "version": 3
   },
   "file_extension": ".py",
   "mimetype": "text/x-python",
   "name": "python",
   "nbconvert_exporter": "python",
   "pygments_lexer": "ipython3",
   "version": "3.7.3"
  }
 },
 "nbformat": 4,
 "nbformat_minor": 2
}
