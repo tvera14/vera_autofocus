{
 "cells": [
  {
   "cell_type": "markdown",
   "metadata": {},
   "source": [
    "In the previous training of Resnet 50, most of the errors were \"neighbor errors\" in which the predicted class was next to the true class. There were only 5 classes, which meant that each class included a broad range of focus levels. To attempt to improve on this, I re-wrote the image sorter to include 7 classes.\n",
    "\n",
    "0) Very out negative 1) Medium out negative 2) Slightly out negative 3) Acceptable 4) Slightly out positive 5) Medium out positive 6) Very out positive\n",
    "\n",
    "After training on a 7 class classifer, the model continued to struggle with telling one class from the other, while staying very accurate with telling whether the current image was above or below the best focal plane. I decided to try training on only 3 classes:\n",
    "\n",
    "0) Out of focus negative (below)\n",
    "1) Acceptable \n",
    "2) Out of focus positive (above)\n",
    "\n",
    "This notebook documents training and evaluation with only 3 classes."
   ]
  },
  {
   "cell_type": "code",
   "execution_count": 1,
   "metadata": {},
   "outputs": [],
   "source": [
    "# Quick check to see how many images there are per class\n",
    "\n",
    "def count_images(file_path):\n",
    "    # Finds class folders, makes a list of classes, and counts how many images are in each class\n",
    "    import os\n",
    "    from pathlib import Path\n",
    "    \n",
    "    image_counter = []\n",
    "    \n",
    "    for class_name in os.listdir(file_path):\n",
    "        # Exclude .DS_Store\n",
    "        if class_name != '.DS_Store':\n",
    "\n",
    "            # Make a Path to the class directory\n",
    "            class_dir = Path(file_path) / class_name\n",
    "\n",
    "            # Note that this is set to work with .png images and needs modification\n",
    "            # to work with other types\n",
    "            image_counter.append(len(os.listdir(class_dir)))\n",
    "                          \n",
    "    return image_counter"
   ]
  },
  {
   "cell_type": "code",
   "execution_count": 2,
   "metadata": {},
   "outputs": [
    {
     "data": {
      "text/plain": [
       "[412, 38, 405]"
      ]
     },
     "execution_count": 2,
     "metadata": {},
     "output_type": "execute_result"
    }
   ],
   "source": [
    "train_path = '/Users/zplab/Desktop/VeraPythonScripts/vera_autofocus/microscope_images/train'\n",
    "train_counts = count_images(train_path)\n",
    "train_counts"
   ]
  },
  {
   "cell_type": "code",
   "execution_count": 3,
   "metadata": {},
   "outputs": [
    {
     "data": {
      "text/plain": [
       "[412, 40, 448]"
      ]
     },
     "execution_count": 3,
     "metadata": {},
     "output_type": "execute_result"
    }
   ],
   "source": [
    "test_path = '/Users/zplab/Desktop/VeraPythonScripts/vera_autofocus/microscope_images/test'\n",
    "test_counts = count_images(test_path)\n",
    "test_counts"
   ]
  },
  {
   "cell_type": "markdown",
   "metadata": {},
   "source": [
    "Unsurprisingly, the number of out of focus images is MUCH larger than in focus images. Annotating more stacks to get more training material is one path forward to improve performance here."
   ]
  },
  {
   "cell_type": "code",
   "execution_count": 4,
   "metadata": {},
   "outputs": [
    {
     "name": "stdout",
     "output_type": "stream",
     "text": [
      "Detected 3 classes in training data\n",
      "['0', '1', '2']\n",
      "Train batch size = 10, test batch size = 10\n",
      "Trainloder length = 86, testloader length = 90\n"
     ]
    }
   ],
   "source": [
    "# Import the image processing functions and class\n",
    "from image_import import process_image, de_process_image, wormDataset\n",
    "\n",
    "# Import all needed libraries\n",
    "import matplotlib.pyplot as plt\n",
    "import numpy as np\n",
    "import torch\n",
    "from torch import nn\n",
    "from torch import optim\n",
    "import torch.nn.functional as F\n",
    "from torchvision import datasets, transforms, models\n",
    "# These last two are used to save info about how the training progressed\n",
    "import pickle\n",
    "import datetime\n",
    "\n",
    "# Set the full path to the main image directory\n",
    "train_dir = '/Users/zplab/Desktop/VeraPythonScripts/vera_autofocus/microscope_images/train'\n",
    "test_dir = '/Users/zplab/Desktop/VeraPythonScripts/vera_autofocus/microscope_images/test'\n",
    "num_train = 10\n",
    "num_test = 10\n",
    "\n",
    "means = [0.485, 0.456, 0.406]\n",
    "stds = [0.229, 0.224, 0.225]\n",
    "\n",
    "traindata = wormDataset(train_dir, means, stds)\n",
    "testdata = wormDataset(test_dir, means, stds)\n",
    "\n",
    "# Load from the training and test sets\n",
    "trainloader = torch.utils.data.DataLoader(traindata, batch_size=num_train, shuffle=True)\n",
    "testloader = torch.utils.data.DataLoader(testdata, batch_size=num_test, shuffle=True)\n",
    "\n",
    "# Get the classes\n",
    "class_names = traindata.classes\n",
    "print('Detected ' + str(len(class_names)) + ' classes in training data')\n",
    "print(class_names)\n",
    "\n",
    "# Print out how many images are in the trainloader and testloader\n",
    "print(\"Train batch size = \" + str(num_train) + ', test batch size = ' + str(num_test))\n",
    "print('Trainloder length = ' + str(len(trainloader)) + ', testloader length = ' + str(len(testloader)))"
   ]
  },
  {
   "cell_type": "code",
   "execution_count": 5,
   "metadata": {},
   "outputs": [],
   "source": [
    "%%capture \n",
    "# Prevent printing out the model architecture\n",
    "# Check if cuda is available, and set pytorch to run on GPU or CPU as appropriate\n",
    "if torch.cuda.is_available():\n",
    "    device = torch.device(\"cuda\")\n",
    "    print('Cuda available, running on GPU')\n",
    "else:\n",
    "    device = torch.device(\"cpu\")\n",
    "    print('Cuda is not available, running on CPU')\n",
    "    # Give the user a message so they know what is going on\n",
    "\n",
    "model = models.resnet50(pretrained=True)\n",
    "#print(model) \n",
    "# Printing the model shows some of the internal layers, not expected to\n",
    "# understand these but neat to see\n",
    "\n",
    "# Freeze the pre-trained layers, no need to update featue detection\n",
    "for param in model.parameters():\n",
    "    param.requires_grad = False\n",
    "\n",
    "# Get the number of features the model expects in the final fully connected layer, this is different\n",
    "# in different models\n",
    "num_ftrs = model.fc.in_features\n",
    "\n",
    "# Re-define the final fully connected layer (model.fc, fc = fully connected)\n",
    "model.fc = nn.Sequential(nn.Linear(num_ftrs, 512), # 2048 inputs to 512 outputs \n",
    "                                 nn.ReLU(),\n",
    "                                 nn.Dropout(0.2),\n",
    "                                 # The next line needs to be modified for the number of classes\n",
    "                                 # in the data set. For the microscope images I currently have \n",
    "                                 # five classes, so there are 5 outputs\n",
    "                                 nn.Linear(512, 3), # 512 inputs to 3 outputs\n",
    "                                 nn.LogSoftmax(dim=1))\n",
    "criterion = nn.NLLLoss()\n",
    "optimizer = optim.Adam(model.fc.parameters(), lr=0.003)\n",
    "model.to(device)"
   ]
  },
  {
   "cell_type": "code",
   "execution_count": 6,
   "metadata": {},
   "outputs": [
    {
     "name": "stdout",
     "output_type": "stream",
     "text": [
      "Epoch 1/2.. Train loss: 1.617.. Test loss: 0.370.. Test accuracy: 0.879\n",
      "Epoch 1/2.. Train loss: 0.247.. Test loss: 1.199.. Test accuracy: 0.734\n",
      "Epoch 1/2.. Train loss: 0.695.. Test loss: 0.780.. Test accuracy: 0.829\n",
      "Epoch 1/2.. Train loss: 0.379.. Test loss: 0.389.. Test accuracy: 0.834\n",
      "Epoch 1/2.. Train loss: 0.270.. Test loss: 0.306.. Test accuracy: 0.937\n",
      "Epoch 1/2.. Train loss: 0.605.. Test loss: 0.222.. Test accuracy: 0.911\n",
      "Epoch 1/2.. Train loss: 0.430.. Test loss: 0.188.. Test accuracy: 0.931\n",
      "Epoch 1/2.. Train loss: 0.328.. Test loss: 0.193.. Test accuracy: 0.934\n",
      "Epoch 2/2.. Train loss: 0.245.. Test loss: 0.166.. Test accuracy: 0.941\n",
      "Epoch 2/2.. Train loss: 0.388.. Test loss: 0.194.. Test accuracy: 0.919\n",
      "Epoch 2/2.. Train loss: 0.291.. Test loss: 0.245.. Test accuracy: 0.920\n",
      "Epoch 2/2.. Train loss: 0.304.. Test loss: 0.280.. Test accuracy: 0.894\n",
      "Epoch 2/2.. Train loss: 0.675.. Test loss: 0.140.. Test accuracy: 0.944\n",
      "Epoch 2/2.. Train loss: 0.827.. Test loss: 0.165.. Test accuracy: 0.942\n",
      "Epoch 2/2.. Train loss: 0.595.. Test loss: 0.426.. Test accuracy: 0.822\n",
      "Epoch 2/2.. Train loss: 0.318.. Test loss: 0.159.. Test accuracy: 0.944\n",
      "Epoch 2/2.. Train loss: 0.245.. Test loss: 0.157.. Test accuracy: 0.944\n"
     ]
    }
   ],
   "source": [
    "# Train the network\n",
    "epochs = 2\n",
    "steps = 0\n",
    "running_loss = 0\n",
    "print_every = 10\n",
    "train_losses, test_losses, accuracy_tracker = [], [], []\n",
    "for epoch in range(epochs):\n",
    "    for inputs, labels in trainloader:\n",
    "        steps += 1\n",
    "        inputs, labels = inputs.to(device), labels.to(device)\n",
    "        optimizer.zero_grad()\n",
    "        logps = model.forward(inputs)\n",
    "        loss = criterion(logps, labels)\n",
    "        loss.backward()\n",
    "        optimizer.step()\n",
    "        running_loss += loss.item()\n",
    "        \n",
    "        if steps % print_every == 0:\n",
    "            test_loss = 0\n",
    "            accuracy = 0\n",
    "            model.eval()\n",
    "            with torch.no_grad():\n",
    "                for inputs, labels in testloader:\n",
    "                    inputs = inputs.to(device)\n",
    "                    labels = labels.to(device)\n",
    "                    logps = model.forward(inputs)\n",
    "                    batch_loss = criterion(logps, labels)\n",
    "                    test_loss += batch_loss.item()\n",
    "                    \n",
    "                    ps = torch.exp(logps)\n",
    "                    top_p, top_class = ps.topk(1, dim=1)\n",
    "                    equals = top_class == labels.view(*top_class.shape)\n",
    "                    accuracy += torch.mean(equals.type(torch.FloatTensor)).item()\n",
    "            train_losses.append(running_loss/len(trainloader))\n",
    "            test_losses.append(test_loss/len(testloader)) \n",
    "            accuracy_tracker.append(accuracy/len(testloader))                     \n",
    "            print(f\"Epoch {epoch+1}/{epochs}.. \"\n",
    "                  f\"Train loss: {running_loss/print_every:.3f}.. \"\n",
    "                  f\"Test loss: {test_loss/len(testloader):.3f}.. \"\n",
    "                  f\"Test accuracy: {accuracy/len(testloader):.3f}\")\n",
    "            running_loss = 0\n",
    "            model.train()\n",
    "torch.save(model, 'resnet50_3cat.pth')"
   ]
  },
  {
   "cell_type": "code",
   "execution_count": 7,
   "metadata": {},
   "outputs": [],
   "source": [
    "# Save the information about how training went\n",
    "# Get a unique date and time to id this training round\n",
    "now = datetime.datetime.now()\n",
    "time_string = ('-').join([str(now.hour), str(now.minute)]) \n",
    "date_string = ('-').join([str(now.month), str(now.day), str(now.year)])\n",
    "file_name = ('_').join(['resnet50_3cat_training', date_string, time_string])\n",
    "\n",
    "fileObject = open(file_name, 'wb')\n",
    "training_data = [train_losses, test_losses, accuracy_tracker]\n",
    "pickle.dump(training_data, fileObject)\n",
    "fileObject.close\n",
    "fileObject.close()"
   ]
  },
  {
   "cell_type": "code",
   "execution_count": 8,
   "metadata": {},
   "outputs": [
    {
     "data": {
      "image/png": "[encoded data removed]",
      "text/plain": [
       "<Figure size 432x288 with 1 Axes>"
      ]
     },
     "metadata": {
      "needs_background": "light"
     },
     "output_type": "display_data"
    }
   ],
   "source": [
    "plt.plot(train_losses, label='Training loss')\n",
    "plt.plot(test_losses, label='Validation loss')\n",
    "plt.legend(frameon=False)\n",
    "plt.show()"
   ]
  },
  {
   "cell_type": "markdown",
   "metadata": {},
   "source": [
    "The model got to high accuracy and a low training loss very quickly, but has a tendency to do worse on some rounds. I wonder if this could have something to do with the relatively small number of acceptable focus samples and would get better with more samples."
   ]
  },
  {
   "cell_type": "code",
   "execution_count": 9,
   "metadata": {},
   "outputs": [
    {
     "name": "stdout",
     "output_type": "stream",
     "text": [
      "Accuracy of the network on 900 test images: 91 %\n"
     ]
    }
   ],
   "source": [
    "# Evaluate on all images in the test loader\n",
    "correct = 0\n",
    "total = 0\n",
    "with torch.no_grad():\n",
    "    for data in testloader:\n",
    "        images, labels = data\n",
    "        outputs = model(images)\n",
    "        _, predicted = torch.max(outputs.data, 1)\n",
    "        total += labels.size(0)\n",
    "        correct += (predicted == labels).sum().item()\n",
    "\n",
    "print('Accuracy of the network on ' + str(total) + ' test images: %d %%' % (\n",
    "    100 * correct / total))"
   ]
  },
  {
   "cell_type": "code",
   "execution_count": 10,
   "metadata": {},
   "outputs": [
    {
     "name": "stdout",
     "output_type": "stream",
     "text": [
      "[[386.   0.  26.]\n",
      " [ 11.   0.  29.]\n",
      " [ 10.   0. 438.]]\n"
     ]
    }
   ],
   "source": [
    "# Make a confusion matrix to look at error types\n",
    "confusion_matrix = np.zeros((3, 3))\n",
    "\n",
    "with torch.no_grad():\n",
    "    for data in testloader:\n",
    "        # This is processing in batches, the number of things in images and labels is the\n",
    "        # the same as the batch size\n",
    "        images, labels = data\n",
    "        outputs = model(images)\n",
    "        predicted = torch.max(outputs.data, 1)\n",
    "        num_labels = labels.size(0)\n",
    "        total += num_labels\n",
    "        for i in range(num_labels): # Iterate through the labels in the batch\n",
    "            \n",
    "            # Increase the cell corresponding to the label / prediction pair by one\n",
    "            confusion_matrix[labels[i], predicted.indices[i]] += 1\n",
    "            \n",
    "print(confusion_matrix)"
   ]
  },
  {
   "cell_type": "markdown",
   "metadata": {},
   "source": [
    "This is really interesting, because the number of out of focus images is so much higher than the acceptable images the model has trained itself to NEVER classify an image as acceptable. That's no good!\n",
    "\n",
    "There are ways to correct for bias in the training data of this type. It's probably a good idea to start doing this for all numbers of categories since there are 40 focus planes and only 3 are considered acceptable."
   ]
  },
  {
   "cell_type": "code",
   "execution_count": null,
   "metadata": {},
   "outputs": [],
   "source": []
  }
 ],
 "metadata": {
  "kernelspec": {
   "display_name": "Python 3",
   "language": "python",
   "name": "python3"
  },
  "language_info": {
   "codemirror_mode": {
    "name": "ipython",
    "version": 3
   },
   "file_extension": ".py",
   "mimetype": "text/x-python",
   "name": "python",
   "nbconvert_exporter": "python",
   "pygments_lexer": "ipython3",
   "version": "3.7.3"
  }
 },
 "nbformat": 4,
 "nbformat_minor": 2
}
