{
 "cells": [
  {
   "cell_type": "markdown",
   "metadata": {},
   "source": [
    "In another Jupyter notebook I trained a resnet50 convnet to classify microscope images into one of five classes. Validation loss over training suggests the model learned a little, but is still not very accurate. In this Notebook I compare some predictions to images to see how well the model is working at this stage.\n",
    "\n",
    "The code to do this comparison comes from the Pytorch 60 minute blitz tutorial:\n",
    "https://pytorch.org/tutorials/beginner/blitz/cifar10_tutorial.html"
   ]
  },
  {
   "cell_type": "code",
   "execution_count": 39,
   "metadata": {},
   "outputs": [],
   "source": [
    "import torch\n",
    "import torchvision\n",
    "from torchvision import datasets, transforms, models\n",
    "import matplotlib.pyplot as plt\n",
    "import numpy as np"
   ]
  },
  {
   "cell_type": "code",
   "execution_count": 40,
   "metadata": {},
   "outputs": [],
   "source": [
    "# Define a function to display images\n",
    "%matplotlib inline\n",
    "def imshow(img):\n",
    "    #img = img / 2 + 0.5     # unnormalize (may need to fix this for current image set)\n",
    "    # Normalize to z score: z = (X - mu) / sigma\n",
    "    # De-normalize: (z * simga) + mu = X\n",
    "    img = img * 0.229 + 0.485 # Values from normalize in the next cell\n",
    "    npimg = img.numpy()\n",
    "    plt.imshow(np.transpose(npimg, (1, 2, 0)))\n",
    "    plt.show()"
   ]
  },
  {
   "cell_type": "markdown",
   "metadata": {},
   "source": [
    "Load up images using torch and torch vision"
   ]
  },
  {
   "cell_type": "code",
   "execution_count": 41,
   "metadata": {},
   "outputs": [
    {
     "name": "stdout",
     "output_type": "stream",
     "text": [
      "Detected 5 classes in test data\n",
      "['acceptable', 'slightly_out_neg', 'slightly_out_pos', 'very_out_neg', 'very_out_pos']\n"
     ]
    }
   ],
   "source": [
    "data_dir = '/Users/zplab/Desktop/VeraPythonScripts/vera_autofocus/microscope_images/test'\n",
    "\n",
    "data_dir = 'microscope_images'\n",
    "# Make sure you are running the code from the folder that contains data_dir, or it won't work\n",
    "num_train = 10\n",
    "num_test = 10\n",
    "\n",
    "# Define transforms for the training data and testing data\n",
    "resnet_transforms = transforms.Compose([transforms.RandomRotation(30),\n",
    "                                       transforms.RandomResizedCrop(224),\n",
    "                                       transforms.RandomHorizontalFlip(),\n",
    "                                       transforms.ToTensor(),\n",
    "                                       transforms.Normalize([0.485, 0.456, 0.406],\n",
    "                                                            [0.229, 0.224, 0.225])])\n",
    "\n",
    "\n",
    "# Load the images from the image folder\n",
    "testdata = datasets.ImageFolder(data_dir + '/test', transform=resnet_transforms)\n",
    "\n",
    "\n",
    "# Load from the training and test sets\n",
    "testloader = torch.utils.data.DataLoader(testdata, batch_size=num_train, shuffle=True)\n",
    "\n",
    "class_names = testdata.classes\n",
    "print('Detected ' + str(len(class_names)) + ' classes in test data')\n",
    "print(class_names)"
   ]
  },
  {
   "cell_type": "markdown",
   "metadata": {},
   "source": [
    "Now that images are loaded up in torch data structures torch functions can be used to sample a set of images"
   ]
  },
  {
   "cell_type": "markdown",
   "metadata": {},
   "source": [
    "Currently, these images look TERRIBLE. I am not sure how much of this is what is actually being passed into the model, or if it is because I'm modifying code that was meant to work with a different normalization scheme and I need to do a better job of de-normalizing to get the images to look like themselves.\n",
    "\n",
    "Load the model so it is available for testing"
   ]
  },
  {
   "cell_type": "code",
   "execution_count": 42,
   "metadata": {},
   "outputs": [
    {
     "name": "stderr",
     "output_type": "stream",
     "text": [
      "UsageError: unrecognized arguments: Keeps notebook from printing the entire model\n"
     ]
    }
   ],
   "source": [
    "%%capture # Keeps notebook from printing the entire model\n",
    "# Load resnet50\n",
    "#model = models.resnet50(pretrained=True)\n",
    "\n",
    "# Get the state dict for the model that was trained\n",
    "model_path = '/Users/zplab/Desktop/VeraPythonScripts/vera_autofocus/autofocus_resnet.pth'\n",
    "model = torch.load(model_path)\n",
    "model.eval()"
   ]
  },
  {
   "cell_type": "code",
   "execution_count": 49,
   "metadata": {},
   "outputs": [
    {
     "name": "stdout",
     "output_type": "stream",
     "text": [
      "tensor([1, 2, 4, 2, 4, 3, 1, 0, 4, 4])\n",
      "torch.return_types.max(\n",
      "values=tensor([-1.1049, -0.9757, -1.1049, -1.1014, -1.0607, -0.7338, -0.9853, -0.8844,\n",
      "        -0.9328, -1.0566], grad_fn=<MaxBackward0>),\n",
      "indices=tensor([3, 4, 3, 4, 3, 3, 3, 3, 3, 4]))\n"
     ]
    }
   ],
   "source": [
    "# Load a set of images from the testloader\n",
    "dataiter = iter(testloader)\n",
    "images, labels = dataiter.next()\n",
    "print(labels)\n",
    "\n",
    "# Get the model predictions for the images\n",
    "outputs = model(images)\n",
    "\n",
    "# Get the value and index of the highest number for each image output\n",
    "predicted = torch.max(outputs, 1)\n",
    "print(predicted)"
   ]
  },
  {
   "cell_type": "code",
   "execution_count": 50,
   "metadata": {},
   "outputs": [
    {
     "name": "stderr",
     "output_type": "stream",
     "text": [
      "Clipping input data to the valid range for imshow with RGB data ([0..1] for floats or [0..255] for integers).\n"
     ]
    },
    {
     "data": {
      "image/png": "[encoded data removed]",
      "text/plain": [
       "<Figure size 432x288 with 1 Axes>"
      ]
     },
     "metadata": {
      "needs_background": "light"
     },
     "output_type": "display_data"
    },
    {
     "name": "stdout",
     "output_type": "stream",
     "text": [
      "GroundTruth: slightly_out_neg\n",
      "Prediction: very_out_neg\n"
     ]
    }
   ],
   "source": [
    "# Print selected images, and their predicted class\n",
    "# print the images, their known labels, and the prediction\n",
    "imshow(images[0])\n",
    "print('GroundTruth: ' + class_names[labels[0]])\n",
    "print('Prediction: ' + class_names[predicted.indices[0]])"
   ]
  },
  {
   "cell_type": "code",
   "execution_count": 51,
   "metadata": {},
   "outputs": [
    {
     "name": "stderr",
     "output_type": "stream",
     "text": [
      "Clipping input data to the valid range for imshow with RGB data ([0..1] for floats or [0..255] for integers).\n"
     ]
    },
    {
     "data": {
      "image/png": "[encoded data removed]",
      "text/plain": [
       "<Figure size 432x288 with 1 Axes>"
      ]
     },
     "metadata": {
      "needs_background": "light"
     },
     "output_type": "display_data"
    },
    {
     "name": "stdout",
     "output_type": "stream",
     "text": [
      "GroundTruth: very_out_pos\n",
      "Prediction: very_out_neg\n"
     ]
    }
   ],
   "source": [
    "# Print selected images, and their predicted class\n",
    "# print the images, their known labels, and the prediction\n",
    "imshow(images[2])\n",
    "print('GroundTruth: ' + class_names[labels[2]])\n",
    "print('Prediction: ' + class_names[predicted.indices[2]])"
   ]
  },
  {
   "cell_type": "code",
   "execution_count": 52,
   "metadata": {},
   "outputs": [
    {
     "name": "stderr",
     "output_type": "stream",
     "text": [
      "Clipping input data to the valid range for imshow with RGB data ([0..1] for floats or [0..255] for integers).\n"
     ]
    },
    {
     "data": {
      "image/png": "[encoded data removed]",
      "text/plain": [
       "<Figure size 432x288 with 1 Axes>"
      ]
     },
     "metadata": {
      "needs_background": "light"
     },
     "output_type": "display_data"
    },
    {
     "name": "stdout",
     "output_type": "stream",
     "text": [
      "GroundTruth: very_out_pos\n",
      "Prediction: very_out_neg\n"
     ]
    }
   ],
   "source": [
    "# Print selected images, and their predicted class\n",
    "# print the images, their known labels, and the prediction\n",
    "imshow(images[4])\n",
    "print('GroundTruth: ' + class_names[labels[4]])\n",
    "print('Prediction: ' + class_names[predicted.indices[4]])"
   ]
  },
  {
   "cell_type": "code",
   "execution_count": 53,
   "metadata": {},
   "outputs": [
    {
     "name": "stderr",
     "output_type": "stream",
     "text": [
      "Clipping input data to the valid range for imshow with RGB data ([0..1] for floats or [0..255] for integers).\n"
     ]
    },
    {
     "data": {
      "image/png": "[encoded data removed]",
      "text/plain": [
       "<Figure size 432x288 with 1 Axes>"
      ]
     },
     "metadata": {
      "needs_background": "light"
     },
     "output_type": "display_data"
    },
    {
     "name": "stdout",
     "output_type": "stream",
     "text": [
      "GroundTruth: slightly_out_neg\n",
      "Prediction: very_out_neg\n"
     ]
    }
   ],
   "source": [
    "# Print selected images, and their predicted class\n",
    "# print the images, their known labels, and the prediction\n",
    "imshow(images[6])\n",
    "print('GroundTruth: ' + class_names[labels[6]])\n",
    "print('Prediction: ' + class_names[predicted.indices[6]])"
   ]
  },
  {
   "cell_type": "code",
   "execution_count": 56,
   "metadata": {},
   "outputs": [
    {
     "name": "stderr",
     "output_type": "stream",
     "text": [
      "Clipping input data to the valid range for imshow with RGB data ([0..1] for floats or [0..255] for integers).\n"
     ]
    },
    {
     "data": {
      "image/png": "[encoded data removed]",
      "text/plain": [
       "<Figure size 432x288 with 1 Axes>"
      ]
     },
     "metadata": {
      "needs_background": "light"
     },
     "output_type": "display_data"
    },
    {
     "name": "stdout",
     "output_type": "stream",
     "text": [
      "GroundTruth: acceptable\n",
      "Prediction: very_out_neg\n"
     ]
    }
   ],
   "source": [
    "# Print selected images, and their predicted class\n",
    "# print the images, their known labels, and the prediction\n",
    "imshow(images[7])\n",
    "print('GroundTruth: ' + class_names[labels[7]])\n",
    "print('Prediction: ' + class_names[predicted.indices[7]])"
   ]
  },
  {
   "cell_type": "markdown",
   "metadata": {},
   "source": [
    "This last prediction is very off. Some of the others might be arguable cases - very out positive and negative may not look all that different. But mistaking positive for very out is clearly wrong."
   ]
  },
  {
   "cell_type": "code",
   "execution_count": 58,
   "metadata": {},
   "outputs": [
    {
     "name": "stdout",
     "output_type": "stream",
     "text": [
      "Accuracy of the network on 900 test images: 34 %\n"
     ]
    }
   ],
   "source": [
    "# Evaluate on all images in the test loader\n",
    "correct = 0\n",
    "total = 0\n",
    "with torch.no_grad():\n",
    "    for data in testloader:\n",
    "        images, labels = data\n",
    "        outputs = model(images)\n",
    "        _, predicted = torch.max(outputs.data, 1)\n",
    "        total += labels.size(0)\n",
    "        correct += (predicted == labels).sum().item()\n",
    "\n",
    "print('Accuracy of the network on ' + str(total) + ' test images: %d %%' % (\n",
    "    100 * correct / total))"
   ]
  },
  {
   "cell_type": "markdown",
   "metadata": {},
   "source": [
    "The accuracy of choosing based on random chance is 1/5, or 20%. The model is doing better than random chance, although not by much."
   ]
  }
 ],
 "metadata": {
  "kernelspec": {
   "display_name": "Python 3",
   "language": "python",
   "name": "python3"
  },
  "language_info": {
   "codemirror_mode": {
    "name": "ipython",
    "version": 3
   },
   "file_extension": ".py",
   "mimetype": "text/x-python",
   "name": "python",
   "nbconvert_exporter": "python",
   "pygments_lexer": "ipython3",
   "version": "3.7.3"
  }
 },
 "nbformat": 4,
 "nbformat_minor": 2
}
